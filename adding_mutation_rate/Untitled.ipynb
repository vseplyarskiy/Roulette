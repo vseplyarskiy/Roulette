{
 "cells": [
  {
   "cell_type": "code",
   "execution_count": 1,
   "id": "41e86f08",
   "metadata": {},
   "outputs": [],
   "source": [
    "import pandas as pd\n",
    "import dask.dataframe as dd\n",
    "import numpy as np\n",
    "from scipy.optimize import minimize"
   ]
  },
  {
   "cell_type": "code",
   "execution_count": 2,
   "id": "8e975201",
   "metadata": {},
   "outputs": [],
   "source": [
    "from dask.distributed import Client\n",
    "client = Client()"
   ]
  },
  {
   "cell_type": "code",
   "execution_count": 3,
   "id": "e6d96e97",
   "metadata": {},
   "outputs": [],
   "source": [
    "vcf_dir = \"/home/djl34/scratch/genetics.bwh.harvard.edu/downloads/Vova/Roulette\""
   ]
  },
  {
   "cell_type": "code",
   "execution_count": 4,
   "id": "373387dc",
   "metadata": {},
   "outputs": [
    {
     "name": "stderr",
     "output_type": "stream",
     "text": [
      "/home/djl34/.conda/envs/kl/lib/python3.10/site-packages/dask/dataframe/io/csv.py:531: UserWarning: Warning gzip compression does not support breaking apart files\n",
      "Please ensure that each individual file can fit in memory and\n",
      "use the keyword ``blocksize=None to remove this message``\n",
      "Setting ``blocksize=None``\n",
      "  warn(\n"
     ]
    }
   ],
   "source": [
    "df = dd.read_csv(vcf_dir + \"/all_hq_synonymous_variants.tsv.gz\", sep = \"\\t\")"
   ]
  },
  {
   "cell_type": "code",
   "execution_count": 5,
   "id": "9d45b7d2",
   "metadata": {},
   "outputs": [],
   "source": [
    "df_observed = dd.read_csv(\"polymorphic_variants.tsv\", sep = \"\\t\")"
   ]
  },
  {
   "cell_type": "code",
   "execution_count": 6,
   "id": "acb3056a",
   "metadata": {},
   "outputs": [],
   "source": [
    "df_observed[\"polymorphic\"] = 1"
   ]
  },
  {
   "cell_type": "code",
   "execution_count": 7,
   "id": "9b05660e",
   "metadata": {},
   "outputs": [],
   "source": [
    "df_merged = df[[\"CHROM\", \"POS\", \"REF\", \"ALT\", \"mu\"]].merge(df_observed[[\"CHROM\", \"POS\", \"REF\", \"ALT\", \"polymorphic\"]], how = \"left\", on = [\"CHROM\", \"POS\", \"REF\", \"ALT\"])"
   ]
  },
  {
   "cell_type": "code",
   "execution_count": 8,
   "id": "6751efbf",
   "metadata": {},
   "outputs": [],
   "source": [
    "df_group = pd.DataFrame(df.groupby(\"mu\").agg({\"polymorphic\": ['size', 'sum']}).compute())"
   ]
  },
  {
   "cell_type": "code",
   "execution_count": 9,
   "id": "d01f29a7",
   "metadata": {},
   "outputs": [],
   "source": [
    "df_group.columns = df_group.columns.droplevel()"
   ]
  },
  {
   "cell_type": "code",
   "execution_count": 10,
   "id": "b5ce464c",
   "metadata": {},
   "outputs": [],
   "source": [
    "df_group = df_group.rename({'size': \"total\", \"sum\": \"polymorphic\"}, axis = 1)\n",
    "df_group = df_group.reset_index()"
   ]
  },
  {
   "cell_type": "code",
   "execution_count": 11,
   "id": "3a4e4a6e",
   "metadata": {},
   "outputs": [
    {
     "data": {
      "text/html": [
       "<div>\n",
       "<style scoped>\n",
       "    .dataframe tbody tr th:only-of-type {\n",
       "        vertical-align: middle;\n",
       "    }\n",
       "\n",
       "    .dataframe tbody tr th {\n",
       "        vertical-align: top;\n",
       "    }\n",
       "\n",
       "    .dataframe thead th {\n",
       "        text-align: right;\n",
       "    }\n",
       "</style>\n",
       "<table border=\"1\" class=\"dataframe\">\n",
       "  <thead>\n",
       "    <tr style=\"text-align: right;\">\n",
       "      <th></th>\n",
       "      <th>mu</th>\n",
       "      <th>total</th>\n",
       "      <th>polymorphic</th>\n",
       "    </tr>\n",
       "  </thead>\n",
       "  <tbody>\n",
       "    <tr>\n",
       "      <th>0</th>\n",
       "      <td>0.400</td>\n",
       "      <td>10419</td>\n",
       "      <td>3750</td>\n",
       "    </tr>\n",
       "    <tr>\n",
       "      <th>1</th>\n",
       "      <td>0.186</td>\n",
       "      <td>243144</td>\n",
       "      <td>54654</td>\n",
       "    </tr>\n",
       "    <tr>\n",
       "      <th>2</th>\n",
       "      <td>0.139</td>\n",
       "      <td>708827</td>\n",
       "      <td>126478</td>\n",
       "    </tr>\n",
       "    <tr>\n",
       "      <th>3</th>\n",
       "      <td>0.342</td>\n",
       "      <td>21608</td>\n",
       "      <td>6862</td>\n",
       "    </tr>\n",
       "    <tr>\n",
       "      <th>4</th>\n",
       "      <td>0.073</td>\n",
       "      <td>1132718</td>\n",
       "      <td>113316</td>\n",
       "    </tr>\n",
       "    <tr>\n",
       "      <th>...</th>\n",
       "      <td>...</td>\n",
       "      <td>...</td>\n",
       "      <td>...</td>\n",
       "    </tr>\n",
       "    <tr>\n",
       "      <th>94</th>\n",
       "      <td>0.799</td>\n",
       "      <td>1397</td>\n",
       "      <td>740</td>\n",
       "    </tr>\n",
       "    <tr>\n",
       "      <th>95</th>\n",
       "      <td>3.219</td>\n",
       "      <td>2398</td>\n",
       "      <td>2275</td>\n",
       "    </tr>\n",
       "    <tr>\n",
       "      <th>96</th>\n",
       "      <td>3.507</td>\n",
       "      <td>525</td>\n",
       "      <td>505</td>\n",
       "    </tr>\n",
       "    <tr>\n",
       "      <th>97</th>\n",
       "      <td>3.912</td>\n",
       "      <td>97</td>\n",
       "      <td>90</td>\n",
       "    </tr>\n",
       "    <tr>\n",
       "      <th>98</th>\n",
       "      <td>0.004</td>\n",
       "      <td>77</td>\n",
       "      <td>2</td>\n",
       "    </tr>\n",
       "  </tbody>\n",
       "</table>\n",
       "<p>99 rows × 3 columns</p>\n",
       "</div>"
      ],
      "text/plain": [
       "       mu    total  polymorphic\n",
       "0   0.400    10419         3750\n",
       "1   0.186   243144        54654\n",
       "2   0.139   708827       126478\n",
       "3   0.342    21608         6862\n",
       "4   0.073  1132718       113316\n",
       "..    ...      ...          ...\n",
       "94  0.799     1397          740\n",
       "95  3.219     2398         2275\n",
       "96  3.507      525          505\n",
       "97  3.912       97           90\n",
       "98  0.004       77            2\n",
       "\n",
       "[99 rows x 3 columns]"
      ]
     },
     "execution_count": 11,
     "metadata": {},
     "output_type": "execute_result"
    }
   ],
   "source": [
    "df_group"
   ]
  },
  {
   "cell_type": "code",
   "execution_count": 12,
   "id": "5d708e66",
   "metadata": {},
   "outputs": [
    {
     "name": "stdout",
     "output_type": "stream",
     "text": [
      "Optimization terminated successfully.\n",
      "         Current function value: 0.000239\n",
      "         Iterations: 32\n",
      "         Function evaluations: 64\n"
     ]
    }
   ],
   "source": [
    "df_group[\"poisson_lambda\"] = 1 - np.exp(-1*df_group[\"mu\"])\n",
    "\n",
    "df_group[\"expected_polymorphic\"] = df_group[\"poisson_lambda\"] * df_group[\"total\"]\n",
    "\n",
    "def poisson_function(x):    \n",
    "    return abs(sum((1 - np.exp(-1 * x * df_group[\"mu\"]))*df_group[\"total\"]) - sum(df_group[\"polymorphic\"]))\n",
    "\n",
    "x0 = np.array([1])\n",
    "res = minimize(poisson_function, x0, method='Nelder-Mead', options={'xatol': 1e-3, 'disp': True})\n",
    "\n",
    "# this is the proper scaling factor for the mutation rate\n",
    "k = res.x[0]"
   ]
  },
  {
   "cell_type": "code",
   "execution_count": 13,
   "id": "818b3af3",
   "metadata": {},
   "outputs": [
    {
     "data": {
      "text/plain": [
       "1.3767815530300145"
      ]
     },
     "execution_count": 13,
     "metadata": {},
     "output_type": "execute_result"
    }
   ],
   "source": [
    "k"
   ]
  },
  {
   "cell_type": "code",
   "execution_count": 8,
   "id": "ed86140d",
   "metadata": {},
   "outputs": [],
   "source": [
    "df[df[\"polymorphic\"] == 1].to_csv(\"polymorphic_variants.tsv\", sep = \"\\t\", index = None)"
   ]
  },
  {
   "cell_type": "code",
   "execution_count": null,
   "id": "46db50fc",
   "metadata": {},
   "outputs": [],
   "source": []
  }
 ],
 "metadata": {
  "kernelspec": {
   "display_name": "Python 3 (ipykernel)",
   "language": "python",
   "name": "python3"
  },
  "language_info": {
   "codemirror_mode": {
    "name": "ipython",
    "version": 3
   },
   "file_extension": ".py",
   "mimetype": "text/x-python",
   "name": "python",
   "nbconvert_exporter": "python",
   "pygments_lexer": "ipython3",
   "version": "3.10.6"
  }
 },
 "nbformat": 4,
 "nbformat_minor": 5
}
