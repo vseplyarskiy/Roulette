{
 "cells": [
  {
   "cell_type": "code",
   "execution_count": 1,
   "id": "d67f6b2b",
   "metadata": {},
   "outputs": [],
   "source": [
    "import pandas as pd\n",
    "import dask.dataframe as dd"
   ]
  },
  {
   "cell_type": "code",
   "execution_count": 2,
   "id": "380c84e5",
   "metadata": {},
   "outputs": [],
   "source": [
    "from dask.distributed import Client\n",
    "\n",
    "client = Client()"
   ]
  },
  {
   "cell_type": "code",
   "execution_count": 3,
   "id": "da9616b2",
   "metadata": {},
   "outputs": [],
   "source": [
    "df_chr1 = dd.read_csv(\"/home/djl34/scratch/1_scaled_rate_v5.2_TFBS_correction_all.tsv\", sep = \"\\t\")"
   ]
  },
  {
   "cell_type": "code",
   "execution_count": 4,
   "id": "2255fe4c",
   "metadata": {},
   "outputs": [],
   "source": [
    "df_chr1 = df_chr1.rename(columns = {\"CHROM\": \"Chrom\", \"POS\": \"Pos\", \"REF\": \"Allele_ref\", \"ALT\": \"Allele\"})"
   ]
  },
  {
   "cell_type": "code",
   "execution_count": 5,
   "id": "4ea687e6",
   "metadata": {},
   "outputs": [
    {
     "data": {
      "text/html": [
       "<div><strong>Dask DataFrame Structure:</strong></div>\n",
       "<div>\n",
       "<style scoped>\n",
       "    .dataframe tbody tr th:only-of-type {\n",
       "        vertical-align: middle;\n",
       "    }\n",
       "\n",
       "    .dataframe tbody tr th {\n",
       "        vertical-align: top;\n",
       "    }\n",
       "\n",
       "    .dataframe thead th {\n",
       "        text-align: right;\n",
       "    }\n",
       "</style>\n",
       "<table border=\"1\" class=\"dataframe\">\n",
       "  <thead>\n",
       "    <tr style=\"text-align: right;\">\n",
       "      <th></th>\n",
       "      <th>Chrom</th>\n",
       "      <th>Pos</th>\n",
       "      <th>Allele_ref</th>\n",
       "      <th>Allele</th>\n",
       "      <th>FILTER</th>\n",
       "      <th>mu_roulette_original</th>\n",
       "      <th>mut_prob</th>\n",
       "    </tr>\n",
       "    <tr>\n",
       "      <th>npartitions=485</th>\n",
       "      <th></th>\n",
       "      <th></th>\n",
       "      <th></th>\n",
       "      <th></th>\n",
       "      <th></th>\n",
       "      <th></th>\n",
       "      <th></th>\n",
       "    </tr>\n",
       "  </thead>\n",
       "  <tbody>\n",
       "    <tr>\n",
       "      <th></th>\n",
       "      <td>int64</td>\n",
       "      <td>int64</td>\n",
       "      <td>object</td>\n",
       "      <td>object</td>\n",
       "      <td>object</td>\n",
       "      <td>float64</td>\n",
       "      <td>float64</td>\n",
       "    </tr>\n",
       "    <tr>\n",
       "      <th></th>\n",
       "      <td>...</td>\n",
       "      <td>...</td>\n",
       "      <td>...</td>\n",
       "      <td>...</td>\n",
       "      <td>...</td>\n",
       "      <td>...</td>\n",
       "      <td>...</td>\n",
       "    </tr>\n",
       "    <tr>\n",
       "      <th>...</th>\n",
       "      <td>...</td>\n",
       "      <td>...</td>\n",
       "      <td>...</td>\n",
       "      <td>...</td>\n",
       "      <td>...</td>\n",
       "      <td>...</td>\n",
       "      <td>...</td>\n",
       "    </tr>\n",
       "    <tr>\n",
       "      <th></th>\n",
       "      <td>...</td>\n",
       "      <td>...</td>\n",
       "      <td>...</td>\n",
       "      <td>...</td>\n",
       "      <td>...</td>\n",
       "      <td>...</td>\n",
       "      <td>...</td>\n",
       "    </tr>\n",
       "    <tr>\n",
       "      <th></th>\n",
       "      <td>...</td>\n",
       "      <td>...</td>\n",
       "      <td>...</td>\n",
       "      <td>...</td>\n",
       "      <td>...</td>\n",
       "      <td>...</td>\n",
       "      <td>...</td>\n",
       "    </tr>\n",
       "  </tbody>\n",
       "</table>\n",
       "</div>\n",
       "<div>Dask Name: rename, 2 graph layers</div>"
      ],
      "text/plain": [
       "Dask DataFrame Structure:\n",
       "                 Chrom    Pos Allele_ref  Allele  FILTER mu_roulette_original mut_prob\n",
       "npartitions=485                                                                       \n",
       "                 int64  int64     object  object  object              float64  float64\n",
       "                   ...    ...        ...     ...     ...                  ...      ...\n",
       "...                ...    ...        ...     ...     ...                  ...      ...\n",
       "                   ...    ...        ...     ...     ...                  ...      ...\n",
       "                   ...    ...        ...     ...     ...                  ...      ...\n",
       "Dask Name: rename, 2 graph layers"
      ]
     },
     "execution_count": 5,
     "metadata": {},
     "output_type": "execute_result"
    }
   ],
   "source": [
    "df_chr1"
   ]
  },
  {
   "cell_type": "code",
   "execution_count": 6,
   "id": "f55b20da",
   "metadata": {},
   "outputs": [],
   "source": [
    "df_syn_chr1 = dd.read_csv(\"/home/djl34/lab_pd/data/synonymous/ukb/chr1.tsv\", sep = \"\\t\", dtype={'filter_ukb': 'object'})"
   ]
  },
  {
   "cell_type": "code",
   "execution_count": 7,
   "id": "156ed16b",
   "metadata": {},
   "outputs": [],
   "source": [
    "df_merged = df_syn_chr1.merge(df_chr1, on = [\"Chrom\", \"Pos\", \"Allele_ref\", \"Allele\"], how = \"left\")"
   ]
  },
  {
   "cell_type": "code",
   "execution_count": 8,
   "id": "c1a480de",
   "metadata": {
    "scrolled": false
   },
   "outputs": [],
   "source": [
    "mut_prob_sum = df_merged[\"mut_prob\"].sum().compute()"
   ]
  },
  {
   "cell_type": "code",
   "execution_count": 9,
   "id": "18eed226",
   "metadata": {},
   "outputs": [
    {
     "data": {
      "text/plain": [
       "264091.11933763465"
      ]
     },
     "execution_count": 9,
     "metadata": {},
     "output_type": "execute_result"
    }
   ],
   "source": [
    "mut_prob_sum"
   ]
  },
  {
   "cell_type": "code",
   "execution_count": 22,
   "id": "87ffaac7",
   "metadata": {},
   "outputs": [
    {
     "data": {
      "text/plain": [
       "264091.11933763465"
      ]
     },
     "execution_count": 22,
     "metadata": {},
     "output_type": "execute_result"
    }
   ],
   "source": [
    "mut_prob_sum"
   ]
  },
  {
   "cell_type": "code",
   "execution_count": 26,
   "id": "f4737c78",
   "metadata": {},
   "outputs": [],
   "source": [
    "df_syn_chr1[\"Polymorphic\"] = df_syn_chr1[\"AC\"].astype(bool).astype(int)"
   ]
  },
  {
   "cell_type": "code",
   "execution_count": 27,
   "id": "2a89f0c2",
   "metadata": {},
   "outputs": [],
   "source": [
    "polymorphic_sum = df_syn_chr1[\"Polymorphic\"].sum().compute()"
   ]
  },
  {
   "cell_type": "code",
   "execution_count": 28,
   "id": "6be7ce33",
   "metadata": {},
   "outputs": [
    {
     "data": {
      "text/plain": [
       "263940"
      ]
     },
     "execution_count": 28,
     "metadata": {},
     "output_type": "execute_result"
    }
   ],
   "source": [
    "polymorphic_sum"
   ]
  },
  {
   "cell_type": "code",
   "execution_count": null,
   "id": "46e44384",
   "metadata": {},
   "outputs": [],
   "source": []
  }
 ],
 "metadata": {
  "kernelspec": {
   "display_name": "Python 3 (ipykernel)",
   "language": "python",
   "name": "python3"
  },
  "language_info": {
   "codemirror_mode": {
    "name": "ipython",
    "version": 3
   },
   "file_extension": ".py",
   "mimetype": "text/x-python",
   "name": "python",
   "nbconvert_exporter": "python",
   "pygments_lexer": "ipython3",
   "version": "3.10.6"
  }
 },
 "nbformat": 4,
 "nbformat_minor": 5
}
