{
 "cells": [
  {
   "cell_type": "code",
   "execution_count": 3,
   "id": "4cdd5086",
   "metadata": {},
   "outputs": [],
   "source": [
    "import pandas as pd\n",
    "import numpy as np\n",
    "import seaborn as sns\n",
    "import matplotlib.pyplot as plt\n",
    "from scipy.optimize import minimize"
   ]
  },
  {
   "cell_type": "markdown",
   "id": "cee56948",
   "metadata": {},
   "source": [
    "# upload file"
   ]
  },
  {
   "cell_type": "code",
   "execution_count": null,
   "id": "a1709aa7",
   "metadata": {},
   "outputs": [],
   "source": [
    "#put filename for tsv file here\n",
    "filename = "
   ]
  },
  {
   "cell_type": "code",
   "execution_count": 37,
   "id": "88c5324e",
   "metadata": {},
   "outputs": [],
   "source": [
    "# each row is a mutation rate bin\n",
    "# the \"sites\" column is the number of sites in the mutation rate bin\n",
    "# the \"polymorphic\" column is the number of polymprhic sites in the mutation rate bin\n",
    "#\"rate\" column is the raw mutation rate\n",
    "\n",
    "df = pd.read_csv(filename, sep = \"\\t\")"
   ]
  },
  {
   "cell_type": "code",
   "execution_count": 36,
   "id": "349ca053",
   "metadata": {},
   "outputs": [],
   "source": [
    "def function(x):    \n",
    "    return abs(sum((1 - np.exp(-1 * x * df[\"rate\"]))*df[\"sites\"]) - sum(df[\"polymorphic\"]))"
   ]
  },
  {
   "cell_type": "code",
   "execution_count": 41,
   "id": "b386b61a",
   "metadata": {},
   "outputs": [],
   "source": [
    "df[\"poisson_lambda\"] = 1 - np.exp(-1*df[\"rate\"])\n",
    "\n",
    "df[\"expected_polymorphic\"] = df[\"poisson_lambda\"] * df[\"sites\"]"
   ]
  },
  {
   "cell_type": "code",
   "execution_count": 15,
   "id": "6f2150cf",
   "metadata": {},
   "outputs": [
    {
     "name": "stdout",
     "output_type": "stream",
     "text": [
      "Optimization terminated successfully.\n",
      "         Current function value: 0.000070\n",
      "         Iterations: 33\n",
      "         Function evaluations: 66\n"
     ]
    }
   ],
   "source": [
    "x0 = np.array([1])\n",
    "res = minimize(function, x0, method='Nelder-Mead', options={'xatol': 1e-3, 'disp': True})"
   ]
  },
  {
   "cell_type": "code",
   "execution_count": 16,
   "id": "c75b940e",
   "metadata": {},
   "outputs": [
    {
     "data": {
      "text/plain": [
       "array([1.39321487])"
      ]
     },
     "execution_count": 16,
     "metadata": {},
     "output_type": "execute_result"
    }
   ],
   "source": [
    "# this is the proper scaling factor for the mutation rate\n",
    "k = res.x[0]"
   ]
  },
  {
   "cell_type": "code",
   "execution_count": 17,
   "id": "76b968e7",
   "metadata": {},
   "outputs": [],
   "source": [
    "df[\"scaled_rate\"] = k * df[\"rate\"] \n"
   ]
  }
 ],
 "metadata": {
  "kernelspec": {
   "display_name": "Python 3",
   "language": "python",
   "name": "python3"
  },
  "language_info": {
   "codemirror_mode": {
    "name": "ipython",
    "version": 3
   },
   "file_extension": ".py",
   "mimetype": "text/x-python",
   "name": "python",
   "nbconvert_exporter": "python",
   "pygments_lexer": "ipython3",
   "version": "3.7.7"
  }
 },
 "nbformat": 4,
 "nbformat_minor": 5
}
