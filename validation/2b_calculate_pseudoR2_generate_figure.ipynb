{
 "cells": [
  {
   "cell_type": "code",
   "execution_count": 1,
   "id": "5e5fb816",
   "metadata": {},
   "outputs": [],
   "source": [
    "import pseudo_R2\n",
    "import pandas as pd\n",
    "import numpy as np\n",
    "\n",
    "import scipy.optimize\n",
    "import scipy.stats as stats\n"
   ]
  },
  {
   "cell_type": "code",
   "execution_count": 2,
   "id": "4fbaeee1",
   "metadata": {},
   "outputs": [],
   "source": [
    "def calc_pR2(sites, mutations, rates, distribution = None, polymorphism = True):\n",
    "    bin_p = sites / np.sum(sites)\n",
    "\n",
    "    # Use a Poisson link to scale rates to the probability of observing a mutation\n",
    "    # This is relevant if analyzing population data where recurrent mutation is likely\n",
    "    \n",
    "    if polymorphism:    \n",
    "        def poisson_link(x):\n",
    "            return -np.sum(stats.binom.logpmf(k=mutations,\n",
    "                                              n=sites,\n",
    "                                              p=(1 - np.exp(-x * rates))))\n",
    "        # Find a non-awful starting place for optimization\n",
    "        # Replace with ML estimate at some point\n",
    "        x0 = np.array([-np.log(0.99) / np.max(rates)])\n",
    "        scaling_fit = scipy.optimize.minimize(poisson_link, x0, method='Nelder-Mead',\n",
    "                                              options={'xatol': 1e-3, 'disp': False})\n",
    "        scaling_factor = scaling_fit.x[0]\n",
    "\n",
    "        mut_p = 1 - np.exp(-scaling_factor * rates)\n",
    "    else:\n",
    "        def poisson_link(x):\n",
    "            return -np.sum(stats.binom.logpmf(k=mutations,\n",
    "                                              n=sites,\n",
    "                                              p=x * rates))\n",
    "        # Find a non-awful starting place for optimization\n",
    "        # Replace with ML estimate at some point\n",
    "        x0 = np.array([-np.log(0.99) / np.max(rates)])\n",
    "        scaling_fit = scipy.optimize.minimize(poisson_link, x0, method='Nelder-Mead',\n",
    "                                              options={'xatol': 1e-3, 'disp': False})\n",
    "        scaling_factor = scaling_fit.x[0]\n",
    "\n",
    "        mut_p = scaling_factor * rates\n",
    "            \n",
    "    # Calculate pseudo-R2 for the observed data\n",
    "    if distribution is None:\n",
    "        e_ll = pseudo_R2.exp_likelihood_model(mut_p, bin_p)\n",
    "        e_ll_null = pseudo_R2.exp_likelihood_null(mut_p, bin_p)\n",
    "    else:\n",
    "        sites_d = distribution[0]\n",
    "        mutations_d = distribution[1]\n",
    "        rates_d = distribution[2]\n",
    "        \n",
    "        bin_p_d = sites_d / np.sum(sites_d)\n",
    "\n",
    "        \n",
    "        if polymorphism:    \n",
    "            def poisson_link(x):\n",
    "                return -np.sum(stats.binom.logpmf(k=mutations_d,\n",
    "                                                  n=sites_d,\n",
    "                                                  p=(1 - np.exp(-x * rates_d))))\n",
    "            # Find a non-awful starting place for optimization\n",
    "            # Replace with ML estimate at some point\n",
    "            x0 = np.array([-np.log(0.99) / np.max(rates_d)])\n",
    "            scaling_fit = scipy.optimize.minimize(poisson_link, x0, method='Nelder-Mead',\n",
    "                                                  options={'xatol': 1e-3, 'disp': False})\n",
    "            scaling_factor = scaling_fit.x[0]\n",
    "\n",
    "            mut_p_distribution = 1 - np.exp(-scaling_factor * rates_d)\n",
    "        \n",
    "        else:\n",
    "            def poisson_link(x):\n",
    "                return -np.sum(stats.binom.logpmf(k=mutations_d,\n",
    "                                                  n=sites_d,\n",
    "                                                  p=x * rates_d))\n",
    "            # Find a non-awful starting place for optimization\n",
    "            # Replace with ML estimate at some point\n",
    "            x0 = np.array([-np.log(0.99) / np.max(rates_d)])\n",
    "            scaling_fit = scipy.optimize.minimize(poisson_link, x0, method='Nelder-Mead',\n",
    "                                                  options={'xatol': 1e-3, 'disp': False})\n",
    "            scaling_factor = scaling_fit.x[0]\n",
    "\n",
    "            mut_p_distribution = scaling_factor * rates_d\n",
    "        \n",
    "        e_ll = pseudo_R2.exp_likelihood_model(mut_p_distribution, bin_p_d)\n",
    "        e_ll_null = pseudo_R2.exp_likelihood_null(mut_p_distribution, bin_p_d)\n",
    "        \n",
    "    a_ll = pseudo_R2.avg_likelihood_sample(sites, mutations, mut_p)\n",
    "#     a_ll_null = pseudo_R2.null_likelihood_sample(sites, mutations, mut_p, bin_p)\n",
    "\n",
    "    \n",
    "    max_R2 = pseudo_R2.calculate_R2(e_ll, e_ll_null)\n",
    "    R2 = pseudo_R2.calculate_R2(a_ll, e_ll_null)\n",
    "    pR2 = R2 / max_R2\n",
    "    return max_R2, R2, pR2"
   ]
  },
  {
   "cell_type": "code",
   "execution_count": 3,
   "id": "a22ff0b8",
   "metadata": {},
   "outputs": [],
   "source": [
    "mu_list = [\"mu\", \"Carlson_rate\", \"gnomAD_rate\"]"
   ]
  },
  {
   "cell_type": "code",
   "execution_count": 8,
   "id": "75c9e28f",
   "metadata": {},
   "outputs": [],
   "source": [
    "def run_pR2_sampling_persite(polymorphic):\n",
    "    n_bootstrap = 1000\n",
    "\n",
    "    max_R2_s_s = []\n",
    "    R2_s_s = []\n",
    "    pR2_s_s = []\n",
    "\n",
    "\n",
    "    for i in range(n_bootstrap):\n",
    "\n",
    "#         print(i)\n",
    "\n",
    "        df_carlson = pd.read_csv(\"data/sample_sites/\"+ polymorphic + \"_Carlson_rate_sample_\" + str(i) +\"_binned.tsv\", sep = \"\\t\", header=[0,1,2])\n",
    "        df_gnomad = pd.read_csv(\"data/sample_sites/\" + polymorphic + \"_gnomAD_rate_sample_\" + str(i) +\"_binned.tsv\", sep = \"\\t\", header=[0,1,2])\n",
    "        df_roulette = pd.read_csv(\"data/sample_sites/\" + polymorphic + \"_mu_sample_\" + str(i) +\"_binned.tsv\", sep = \"\\t\", header=[0,1, 2])\n",
    "\n",
    "        df_list = [df_roulette, df_carlson, df_gnomad]\n",
    "\n",
    "        for df in df_list:\n",
    "            df.columns = [\"rate\", \"sites\", \"mutations\"]\n",
    "\n",
    "        distribution = [df_roulette[\"sites\"].to_numpy(dtype=int), df_roulette[\"mutations\"].to_numpy(dtype=int),df_roulette[\"rate\"].to_numpy(dtype=float)]\n",
    "\n",
    "        max_R2_s = []\n",
    "        R2_s = []\n",
    "        pR2_s = []\n",
    "\n",
    "        for df in df_list:\n",
    "            rates = df[\"rate\"].to_numpy(dtype=float)\n",
    "            sites = df[\"sites\"].to_numpy(dtype=int)\n",
    "            mutations = df[\"mutations\"].to_numpy(dtype=int)\n",
    "\n",
    "            max_R2, R2, pR2 = calc_pR2(sites, mutations, rates, distribution)\n",
    "\n",
    "            max_R2_s.append(max_R2)\n",
    "            R2_s.append(R2)\n",
    "            pR2_s.append(pR2)\n",
    "\n",
    "        max_R2_s_s.append(max_R2_s)\n",
    "        R2_s_s.append(R2_s)\n",
    "        pR2_s_s.append(pR2_s)\n",
    "        \n",
    "    df_summary = pd.DataFrame(pR2_s_s, columns = [\"Roulette\", \"Carlson\", \"gnomAD\"])\n",
    "\n",
    "    df_summary[\"Roulette - Carlson\"] = df_summary[\"Roulette\"] - df_summary[\"Carlson\"]\n",
    "    df_summary[\"Roulette - gnomAD\"] = df_summary[\"Roulette\"] - df_summary[\"gnomAD\"]\n",
    "\n",
    "    df_summary.to_csv(polymorphic + \"_pR2_1000.tsv\", sep = \"\\t\", index = None)\n",
    "    \n",
    "    return df_summary"
   ]
  },
  {
   "cell_type": "markdown",
   "id": "21a1ba5e",
   "metadata": {},
   "source": [
    "## perform for polymorphic gnomADv2"
   ]
  },
  {
   "cell_type": "code",
   "execution_count": 9,
   "id": "c6d1d853",
   "metadata": {},
   "outputs": [],
   "source": [
    "df_summary_gnomADv2_polymorphic = run_pR2_sampling_persite(\"gnomADv2_polymorphic\")"
   ]
  },
  {
   "cell_type": "code",
   "execution_count": 10,
   "id": "b1d5abf5",
   "metadata": {},
   "outputs": [
    {
     "data": {
      "text/html": [
       "<div>\n",
       "<style scoped>\n",
       "    .dataframe tbody tr th:only-of-type {\n",
       "        vertical-align: middle;\n",
       "    }\n",
       "\n",
       "    .dataframe tbody tr th {\n",
       "        vertical-align: top;\n",
       "    }\n",
       "\n",
       "    .dataframe thead th {\n",
       "        text-align: right;\n",
       "    }\n",
       "</style>\n",
       "<table border=\"1\" class=\"dataframe\">\n",
       "  <thead>\n",
       "    <tr style=\"text-align: right;\">\n",
       "      <th></th>\n",
       "      <th>Roulette</th>\n",
       "      <th>Carlson</th>\n",
       "      <th>gnomAD</th>\n",
       "      <th>Roulette - Carlson</th>\n",
       "      <th>Roulette - gnomAD</th>\n",
       "    </tr>\n",
       "  </thead>\n",
       "  <tbody>\n",
       "    <tr>\n",
       "      <th>0.025</th>\n",
       "      <td>0.857489</td>\n",
       "      <td>0.811209</td>\n",
       "      <td>0.780278</td>\n",
       "      <td>0.045524</td>\n",
       "      <td>0.076372</td>\n",
       "    </tr>\n",
       "    <tr>\n",
       "      <th>0.500</th>\n",
       "      <td>0.860518</td>\n",
       "      <td>0.813989</td>\n",
       "      <td>0.783266</td>\n",
       "      <td>0.046531</td>\n",
       "      <td>0.077256</td>\n",
       "    </tr>\n",
       "    <tr>\n",
       "      <th>0.975</th>\n",
       "      <td>0.863303</td>\n",
       "      <td>0.816626</td>\n",
       "      <td>0.785855</td>\n",
       "      <td>0.047551</td>\n",
       "      <td>0.078109</td>\n",
       "    </tr>\n",
       "  </tbody>\n",
       "</table>\n",
       "</div>"
      ],
      "text/plain": [
       "       Roulette   Carlson    gnomAD  Roulette - Carlson  Roulette - gnomAD\n",
       "0.025  0.857489  0.811209  0.780278            0.045524           0.076372\n",
       "0.500  0.860518  0.813989  0.783266            0.046531           0.077256\n",
       "0.975  0.863303  0.816626  0.785855            0.047551           0.078109"
      ]
     },
     "execution_count": 10,
     "metadata": {},
     "output_type": "execute_result"
    }
   ],
   "source": [
    "df_summary_gnomADv2_polymorphic.quantile([.025, .5, 0.975])"
   ]
  },
  {
   "cell_type": "markdown",
   "id": "0adc30d0",
   "metadata": {},
   "source": [
    "## calculate for denovo combined"
   ]
  },
  {
   "cell_type": "code",
   "execution_count": 12,
   "id": "41049d46",
   "metadata": {},
   "outputs": [],
   "source": [
    "df_summary_denovo_combined = run_pR2_sampling_persite(\"denovo_combined\")"
   ]
  },
  {
   "cell_type": "code",
   "execution_count": 13,
   "id": "4a132f61",
   "metadata": {},
   "outputs": [
    {
     "data": {
      "text/html": [
       "<div>\n",
       "<style scoped>\n",
       "    .dataframe tbody tr th:only-of-type {\n",
       "        vertical-align: middle;\n",
       "    }\n",
       "\n",
       "    .dataframe tbody tr th {\n",
       "        vertical-align: top;\n",
       "    }\n",
       "\n",
       "    .dataframe thead th {\n",
       "        text-align: right;\n",
       "    }\n",
       "</style>\n",
       "<table border=\"1\" class=\"dataframe\">\n",
       "  <thead>\n",
       "    <tr style=\"text-align: right;\">\n",
       "      <th></th>\n",
       "      <th>Roulette</th>\n",
       "      <th>Carlson</th>\n",
       "      <th>gnomAD</th>\n",
       "      <th>Roulette - Carlson</th>\n",
       "      <th>Roulette - gnomAD</th>\n",
       "    </tr>\n",
       "  </thead>\n",
       "  <tbody>\n",
       "    <tr>\n",
       "      <th>0.025</th>\n",
       "      <td>0.853927</td>\n",
       "      <td>0.805512</td>\n",
       "      <td>0.782466</td>\n",
       "      <td>0.033431</td>\n",
       "      <td>0.053340</td>\n",
       "    </tr>\n",
       "    <tr>\n",
       "      <th>0.500</th>\n",
       "      <td>0.926147</td>\n",
       "      <td>0.870619</td>\n",
       "      <td>0.854193</td>\n",
       "      <td>0.054275</td>\n",
       "      <td>0.071409</td>\n",
       "    </tr>\n",
       "    <tr>\n",
       "      <th>0.975</th>\n",
       "      <td>0.994460</td>\n",
       "      <td>0.932114</td>\n",
       "      <td>0.919962</td>\n",
       "      <td>0.074767</td>\n",
       "      <td>0.088129</td>\n",
       "    </tr>\n",
       "  </tbody>\n",
       "</table>\n",
       "</div>"
      ],
      "text/plain": [
       "       Roulette   Carlson    gnomAD  Roulette - Carlson  Roulette - gnomAD\n",
       "0.025  0.853927  0.805512  0.782466            0.033431           0.053340\n",
       "0.500  0.926147  0.870619  0.854193            0.054275           0.071409\n",
       "0.975  0.994460  0.932114  0.919962            0.074767           0.088129"
      ]
     },
     "execution_count": 13,
     "metadata": {},
     "output_type": "execute_result"
    }
   ],
   "source": [
    "df_summary_denovo_combined.quantile([.025, .5, 0.975])"
   ]
  },
  {
   "cell_type": "markdown",
   "id": "de0c1805",
   "metadata": {},
   "source": [
    "## calculate for ukb"
   ]
  },
  {
   "cell_type": "code",
   "execution_count": 14,
   "id": "ea1183a7",
   "metadata": {},
   "outputs": [],
   "source": [
    "df_summary_ukb_polymorphic = run_pR2_sampling_persite(\"ukb_polymorphic\")"
   ]
  },
  {
   "cell_type": "code",
   "execution_count": 15,
   "id": "f1477005",
   "metadata": {},
   "outputs": [
    {
     "data": {
      "text/html": [
       "<div>\n",
       "<style scoped>\n",
       "    .dataframe tbody tr th:only-of-type {\n",
       "        vertical-align: middle;\n",
       "    }\n",
       "\n",
       "    .dataframe tbody tr th {\n",
       "        vertical-align: top;\n",
       "    }\n",
       "\n",
       "    .dataframe thead th {\n",
       "        text-align: right;\n",
       "    }\n",
       "</style>\n",
       "<table border=\"1\" class=\"dataframe\">\n",
       "  <thead>\n",
       "    <tr style=\"text-align: right;\">\n",
       "      <th></th>\n",
       "      <th>Roulette</th>\n",
       "      <th>Carlson</th>\n",
       "      <th>gnomAD</th>\n",
       "      <th>Roulette - Carlson</th>\n",
       "      <th>Roulette - gnomAD</th>\n",
       "    </tr>\n",
       "  </thead>\n",
       "  <tbody>\n",
       "    <tr>\n",
       "      <th>0.025</th>\n",
       "      <td>0.874208</td>\n",
       "      <td>0.823044</td>\n",
       "      <td>0.795101</td>\n",
       "      <td>0.050295</td>\n",
       "      <td>0.078375</td>\n",
       "    </tr>\n",
       "    <tr>\n",
       "      <th>0.500</th>\n",
       "      <td>0.877261</td>\n",
       "      <td>0.825886</td>\n",
       "      <td>0.798000</td>\n",
       "      <td>0.051350</td>\n",
       "      <td>0.079273</td>\n",
       "    </tr>\n",
       "    <tr>\n",
       "      <th>0.975</th>\n",
       "      <td>0.880298</td>\n",
       "      <td>0.828599</td>\n",
       "      <td>0.800843</td>\n",
       "      <td>0.052449</td>\n",
       "      <td>0.080228</td>\n",
       "    </tr>\n",
       "  </tbody>\n",
       "</table>\n",
       "</div>"
      ],
      "text/plain": [
       "       Roulette   Carlson    gnomAD  Roulette - Carlson  Roulette - gnomAD\n",
       "0.025  0.874208  0.823044  0.795101            0.050295           0.078375\n",
       "0.500  0.877261  0.825886  0.798000            0.051350           0.079273\n",
       "0.975  0.880298  0.828599  0.800843            0.052449           0.080228"
      ]
     },
     "execution_count": 15,
     "metadata": {},
     "output_type": "execute_result"
    }
   ],
   "source": [
    "df_summary_ukb_polymorphic.quantile([.025, .5, 0.975])"
   ]
  },
  {
   "cell_type": "markdown",
   "id": "5af39fd2",
   "metadata": {},
   "source": [
    "## load df and generate figure"
   ]
  },
  {
   "cell_type": "code",
   "execution_count": 16,
   "id": "bb539b8e",
   "metadata": {},
   "outputs": [
    {
     "data": {
      "text/plain": [
       "<Figure size 640x480 with 0 Axes>"
      ]
     },
     "metadata": {},
     "output_type": "display_data"
    }
   ],
   "source": [
    "import seaborn as sns\n",
    "import matplotlib.pyplot as plt\n",
    "\n",
    "sns.set_theme(style=\"white\", palette=None, font_scale=2)\n",
    "sns.despine(bottom = True, left = True)"
   ]
  },
  {
   "cell_type": "code",
   "execution_count": 17,
   "id": "924072dc",
   "metadata": {},
   "outputs": [],
   "source": [
    "df_summary_ukb_polymorphic = pd.read_csv(\"ukb_polymorphic_pR2_1000.tsv\", sep = \"\\t\")\n",
    "df_summary_gnomadv2_polymorphic = pd.read_csv(\"gnomADv2_polymorphic_pR2_1000.tsv\", sep = \"\\t\")\n",
    "df_summary_denovo_combined = pd.read_csv(\"denovo_combined_pR2_1000.tsv\", sep = \"\\t\")\n",
    "# df_summary_denovo_exome = pd.read_csv(\"denovo_exome_pR2_1000.tsv\", sep = \"\\t\")"
   ]
  },
  {
   "cell_type": "code",
   "execution_count": 18,
   "id": "77f213ad",
   "metadata": {},
   "outputs": [],
   "source": [
    "df_summary_list = [df_summary_ukb_polymorphic, df_summary_gnomadv2_polymorphic, df_summary_denovo_combined]"
   ]
  },
  {
   "cell_type": "code",
   "execution_count": 19,
   "id": "079156c6",
   "metadata": {},
   "outputs": [],
   "source": [
    "dataset = [\"UkBiobank\", \"gnomADv2\", \"denovo\"]\n",
    "\n",
    "i = 0\n",
    "for df_summary in df_summary_list:\n",
    "    df_melt = pd.melt(df_summary[[\"Roulette - Carlson\", \"Roulette - gnomAD\"]], \n",
    "        value_vars=['Roulette - Carlson', 'Roulette - gnomAD'], var_name=\"Model\", value_name='pR2 difference')\n",
    "    \n",
    "    df_melt[\"Dataset\"] = dataset[i]\n",
    "    \n",
    "    if i == 0:\n",
    "        df_melt_combined = df_melt\n",
    "    else:\n",
    "        df_melt_combined = pd.concat([df_melt_combined, df_melt])\n",
    "        \n",
    "    i += 1"
   ]
  },
  {
   "cell_type": "code",
   "execution_count": 42,
   "id": "bbbbf99a",
   "metadata": {},
   "outputs": [
    {
     "data": {
      "text/plain": [
       "array([[1.        , 0.49803922, 0.05490196],\n",
       "       [0.17254902, 0.62745098, 0.17254902],\n",
       "       [0.83921569, 0.15294118, 0.15686275],\n",
       "       [0.58039216, 0.40392157, 0.74117647],\n",
       "       [0.54901961, 0.3372549 , 0.29411765],\n",
       "       [0.89019608, 0.46666667, 0.76078431],\n",
       "       [0.49803922, 0.49803922, 0.49803922],\n",
       "       [0.7372549 , 0.74117647, 0.13333333],\n",
       "       [0.09019608, 0.74509804, 0.81176471]])"
      ]
     },
     "execution_count": 42,
     "metadata": {},
     "output_type": "execute_result"
    }
   ],
   "source": [
    "np.array(sns.color_palette())[1:]"
   ]
  },
  {
   "cell_type": "code",
   "execution_count": 43,
   "id": "6228521f",
   "metadata": {},
   "outputs": [
    {
     "data": {
      "text/plain": [
       "array([[0.12156863, 0.46666667, 0.70588235],\n",
       "       [1.        , 0.49803922, 0.05490196],\n",
       "       [0.17254902, 0.62745098, 0.17254902],\n",
       "       [0.83921569, 0.15294118, 0.15686275],\n",
       "       [0.58039216, 0.40392157, 0.74117647],\n",
       "       [0.54901961, 0.3372549 , 0.29411765],\n",
       "       [0.89019608, 0.46666667, 0.76078431],\n",
       "       [0.49803922, 0.49803922, 0.49803922],\n",
       "       [0.7372549 , 0.74117647, 0.13333333],\n",
       "       [0.09019608, 0.74509804, 0.81176471]])"
      ]
     },
     "execution_count": 43,
     "metadata": {},
     "output_type": "execute_result"
    }
   ],
   "source": [
    "np.array(sns.color_palette())"
   ]
  },
  {
   "cell_type": "code",
   "execution_count": 20,
   "id": "36aadd50",
   "metadata": {},
   "outputs": [
    {
     "data": {
      "text/plain": [
       "Text(0, 0.5, '$\\\\Delta \\\\tilde{R}^2$ (synonymous)')"
      ]
     },
     "execution_count": 20,
     "metadata": {},
     "output_type": "execute_result"
    },
    {
     "data": {
      "image/png": "[encoded data removed]",
      "text/plain": [
       "<Figure size 1200x800 with 1 Axes>"
      ]
     },
     "metadata": {},
     "output_type": "display_data"
    }
   ],
   "source": [
    "plt.subplots(figsize=(12, 8))\n",
    "\n",
    "col = np.array(sns.color_palette())[1:]\n",
    "\n",
    "ax = sns.boxplot(df_melt_combined, y=\"pR2 difference\", x=\"Dataset\", hue=\"Model\", palette = col)\n",
    "\n",
    "# ax.set_xlim(0.0, 0.07)\n",
    "ax.set_ylabel(r\"$\\Delta \\tilde{R}^2$ (synonymous)\")\n",
    "\n",
    "plt.savefig('line_plot.pdf')  "
   ]
  },
  {
   "cell_type": "code",
   "execution_count": null,
   "id": "1f3c267e",
   "metadata": {},
   "outputs": [],
   "source": []
  }
 ],
 "metadata": {
  "kernelspec": {
   "display_name": "Python 3 (ipykernel)",
   "language": "python",
   "name": "python3"
  },
  "language_info": {
   "codemirror_mode": {
    "name": "ipython",
    "version": 3
   },
   "file_extension": ".py",
   "mimetype": "text/x-python",
   "name": "python",
   "nbconvert_exporter": "python",
   "pygments_lexer": "ipython3",
   "version": "3.10.6"
  }
 },
 "nbformat": 4,
 "nbformat_minor": 5
}
