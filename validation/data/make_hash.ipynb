{
 "cells": [
  {
   "cell_type": "code",
   "execution_count": 1,
   "id": "72c2a5e3",
   "metadata": {},
   "outputs": [],
   "source": [
    "import pandas as pd\n",
    "import dask.dataframe as dd"
   ]
  },
  {
   "cell_type": "code",
   "execution_count": 2,
   "id": "16613a43",
   "metadata": {},
   "outputs": [],
   "source": [
    "from dask.distributed import Client\n",
    "client = Client()"
   ]
  },
  {
   "cell_type": "code",
   "execution_count": 3,
   "id": "9295f13f",
   "metadata": {},
   "outputs": [],
   "source": [
    "df = dd.read_csv(\"synonymous_gnomAD_ukb_denovo/*part\", sep = \"\\t\")"
   ]
  },
  {
   "cell_type": "code",
   "execution_count": 5,
   "id": "9ff212de",
   "metadata": {},
   "outputs": [
    {
     "data": {
      "text/html": [
       "<div>\n",
       "<style scoped>\n",
       "    .dataframe tbody tr th:only-of-type {\n",
       "        vertical-align: middle;\n",
       "    }\n",
       "\n",
       "    .dataframe tbody tr th {\n",
       "        vertical-align: top;\n",
       "    }\n",
       "\n",
       "    .dataframe thead th {\n",
       "        text-align: right;\n",
       "    }\n",
       "</style>\n",
       "<table border=\"1\" class=\"dataframe\">\n",
       "  <thead>\n",
       "    <tr style=\"text-align: right;\">\n",
       "      <th></th>\n",
       "      <th>Chrom</th>\n",
       "      <th>Pos</th>\n",
       "      <th>Allele_ref</th>\n",
       "      <th>Allele</th>\n",
       "      <th>gnomADv2_polymorphic</th>\n",
       "      <th>denovo_genome</th>\n",
       "      <th>denovo_exome</th>\n",
       "      <th>mu</th>\n",
       "      <th>mu_quality</th>\n",
       "      <th>Carlson_rate</th>\n",
       "      <th>gnomAD_rate</th>\n",
       "      <th>mean</th>\n",
       "      <th>median</th>\n",
       "      <th>ukb_polymorphic</th>\n",
       "      <th>filter_ukb</th>\n",
       "    </tr>\n",
       "  </thead>\n",
       "  <tbody>\n",
       "    <tr>\n",
       "      <th>0</th>\n",
       "      <td>1</td>\n",
       "      <td>65570</td>\n",
       "      <td>G</td>\n",
       "      <td>A</td>\n",
       "      <td>0</td>\n",
       "      <td>NaN</td>\n",
       "      <td>NaN</td>\n",
       "      <td>0.105</td>\n",
       "      <td>low</td>\n",
       "      <td>NaN</td>\n",
       "      <td>1.009018e-08</td>\n",
       "      <td>NaN</td>\n",
       "      <td>NaN</td>\n",
       "      <td>0</td>\n",
       "      <td>NaN</td>\n",
       "    </tr>\n",
       "    <tr>\n",
       "      <th>1</th>\n",
       "      <td>1</td>\n",
       "      <td>65573</td>\n",
       "      <td>G</td>\n",
       "      <td>A</td>\n",
       "      <td>0</td>\n",
       "      <td>NaN</td>\n",
       "      <td>NaN</td>\n",
       "      <td>0.223</td>\n",
       "      <td>low</td>\n",
       "      <td>NaN</td>\n",
       "      <td>1.512832e-08</td>\n",
       "      <td>NaN</td>\n",
       "      <td>NaN</td>\n",
       "      <td>0</td>\n",
       "      <td>NaN</td>\n",
       "    </tr>\n",
       "    <tr>\n",
       "      <th>2</th>\n",
       "      <td>1</td>\n",
       "      <td>69039</td>\n",
       "      <td>A</td>\n",
       "      <td>C</td>\n",
       "      <td>0</td>\n",
       "      <td>NaN</td>\n",
       "      <td>NaN</td>\n",
       "      <td>0.013</td>\n",
       "      <td>low</td>\n",
       "      <td>NaN</td>\n",
       "      <td>2.626783e-09</td>\n",
       "      <td>NaN</td>\n",
       "      <td>NaN</td>\n",
       "      <td>0</td>\n",
       "      <td>NaN</td>\n",
       "    </tr>\n",
       "    <tr>\n",
       "      <th>3</th>\n",
       "      <td>1</td>\n",
       "      <td>69039</td>\n",
       "      <td>A</td>\n",
       "      <td>G</td>\n",
       "      <td>0</td>\n",
       "      <td>NaN</td>\n",
       "      <td>NaN</td>\n",
       "      <td>0.062</td>\n",
       "      <td>low</td>\n",
       "      <td>NaN</td>\n",
       "      <td>7.966639e-09</td>\n",
       "      <td>NaN</td>\n",
       "      <td>NaN</td>\n",
       "      <td>0</td>\n",
       "      <td>NaN</td>\n",
       "    </tr>\n",
       "    <tr>\n",
       "      <th>4</th>\n",
       "      <td>1</td>\n",
       "      <td>69039</td>\n",
       "      <td>A</td>\n",
       "      <td>T</td>\n",
       "      <td>0</td>\n",
       "      <td>NaN</td>\n",
       "      <td>NaN</td>\n",
       "      <td>0.020</td>\n",
       "      <td>low</td>\n",
       "      <td>NaN</td>\n",
       "      <td>3.122595e-09</td>\n",
       "      <td>NaN</td>\n",
       "      <td>NaN</td>\n",
       "      <td>0</td>\n",
       "      <td>NaN</td>\n",
       "    </tr>\n",
       "  </tbody>\n",
       "</table>\n",
       "</div>"
      ],
      "text/plain": [
       "   Chrom    Pos Allele_ref Allele  gnomADv2_polymorphic  denovo_genome  \\\n",
       "0      1  65570          G      A                     0            NaN   \n",
       "1      1  65573          G      A                     0            NaN   \n",
       "2      1  69039          A      C                     0            NaN   \n",
       "3      1  69039          A      G                     0            NaN   \n",
       "4      1  69039          A      T                     0            NaN   \n",
       "\n",
       "   denovo_exome     mu mu_quality  Carlson_rate   gnomAD_rate  mean  median  \\\n",
       "0           NaN  0.105        low           NaN  1.009018e-08   NaN     NaN   \n",
       "1           NaN  0.223        low           NaN  1.512832e-08   NaN     NaN   \n",
       "2           NaN  0.013        low           NaN  2.626783e-09   NaN     NaN   \n",
       "3           NaN  0.062        low           NaN  7.966639e-09   NaN     NaN   \n",
       "4           NaN  0.020        low           NaN  3.122595e-09   NaN     NaN   \n",
       "\n",
       "   ukb_polymorphic filter_ukb  \n",
       "0                0        NaN  \n",
       "1                0        NaN  \n",
       "2                0        NaN  \n",
       "3                0        NaN  \n",
       "4                0        NaN  "
      ]
     },
     "execution_count": 5,
     "metadata": {},
     "output_type": "execute_result"
    }
   ],
   "source": [
    "df.head()"
   ]
  },
  {
   "cell_type": "markdown",
   "id": "06b02329",
   "metadata": {},
   "source": [
    "### filter for sites with mutation rate estimates"
   ]
  },
  {
   "cell_type": "code",
   "execution_count": 6,
   "id": "fb566c37",
   "metadata": {},
   "outputs": [],
   "source": [
    "rate_column_name = [\"mu\", \"Carlson_rate\", \"gnomAD_rate\"]\n",
    "for i in rate_column_name:\n",
    "    df = df[df[i].isna() == False]\n",
    "    df = df[df[i] != 0]"
   ]
  },
  {
   "cell_type": "code",
   "execution_count": 7,
   "id": "507202d0",
   "metadata": {},
   "outputs": [],
   "source": [
    "df = df[df[\"mu_quality\"] == \"high\"]"
   ]
  },
  {
   "cell_type": "markdown",
   "id": "d5daa971",
   "metadata": {},
   "source": [
    "### output hash table"
   ]
  },
  {
   "cell_type": "code",
   "execution_count": 11,
   "id": "b06e8152",
   "metadata": {},
   "outputs": [],
   "source": [
    "mu_list = [\"mu\", \"Carlson_rate\", \"gnomAD_rate\"]\n",
    "\n",
    "polymorphic_list = [\"gnomADv2_polymorphic\", \"ukb_polymorphic\", \"denovo_genome\", \"denovo_exome\"]"
   ]
  },
  {
   "cell_type": "code",
   "execution_count": 12,
   "id": "e8a3592d",
   "metadata": {},
   "outputs": [
    {
     "name": "stdout",
     "output_type": "stream",
     "text": [
      "gnomADv2_polymorphic\n",
      "ukb_polymorphic\n",
      "denovo_genome\n",
      "denovo_exome\n",
      "gnomADv2_polymorphic\n",
      "ukb_polymorphic\n",
      "denovo_genome\n",
      "denovo_exome\n",
      "gnomADv2_polymorphic\n",
      "ukb_polymorphic\n",
      "denovo_genome\n",
      "denovo_exome\n"
     ]
    }
   ],
   "source": [
    "for mu in mu_list:\n",
    "    for polymorphic in polymorphic_list:\n",
    "        print(polymorphic)\n",
    "        df_grouped = pd.DataFrame(df.groupby(mu).agg({polymorphic: ['size', 'sum']}).compute())\n",
    "#         df_group.rename({0: \"total\"}, axis = 1, inplace = True)\n",
    "#         df_group = df_group.reset_index()\n",
    "\n",
    "        df_grouped.to_csv(polymorphic + \"_\" + mu +\"_binned.tsv\", sep = \"\\t\")"
   ]
  },
  {
   "cell_type": "code",
   "execution_count": null,
   "id": "211adb39",
   "metadata": {},
   "outputs": [],
   "source": []
  }
 ],
 "metadata": {
  "kernelspec": {
   "display_name": "Python 3 (ipykernel)",
   "language": "python",
   "name": "python3"
  },
  "language_info": {
   "codemirror_mode": {
    "name": "ipython",
    "version": 3
   },
   "file_extension": ".py",
   "mimetype": "text/x-python",
   "name": "python",
   "nbconvert_exporter": "python",
   "pygments_lexer": "ipython3",
   "version": "3.10.6"
  }
 },
 "nbformat": 4,
 "nbformat_minor": 5
}
